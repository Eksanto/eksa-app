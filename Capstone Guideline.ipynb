{
 "cells": [
  {
   "cell_type": "markdown",
   "source": [
    "**Capstone Guideline : Named Entity Recognition Service**"
   ],
   "metadata": {}
  },
  {
   "cell_type": "markdown",
   "source": [
    "___"
   ],
   "metadata": {}
  },
  {
   "cell_type": "markdown",
   "source": [
    "Checkpoints : \n",
    "1. Instalasi : 1 poin\n",
    "2. Membuat dan menggunakan model entity recognition : 2 poin\n",
    "4. Membuat api untuk aplikasi entity recognition dengan tampilan web : 2 poin\n",
    "5. Membuat api untuk aplikasi entity recognition tanpa tampilan web : 9 poin\n",
    "6. Melakukan deployment aplikasi pada remote host : 2 poin"
   ],
   "metadata": {}
  },
  {
   "cell_type": "markdown",
   "source": [
    "# Instalasi "
   ],
   "metadata": {}
  },
  {
   "cell_type": "markdown",
   "source": [
    "Untuk membuat flask named entity recognition, kita dapat menggunakan libary : \n",
    "- flask : untuk membuat aplikasi / microservice (install : `pip install flask`)\n",
    "- pandas : tools data analysis, digunakan selama pembuatan fitur aplikasi  (install : `pip install pandas`)\n",
    "- spacy : model bahasa (install : `pip install spacy`)\n",
    "- en_core_web_md : kamus bahasa yang akan digunakan spacy (install : `python -m spacy download en_core_web_md` atau `pip install https://github.com/explosion/spacy-models/releases/download/en_core_web_md-3.0.0/en_core_web_md-3.0.0.tar.gz`)\n",
    "\n",
    "- requests : tools untuk mengirim dan menerima paket, digunakan untuk menguji aplikasi yang sudah dibuat (built-in python)"
   ],
   "metadata": {}
  },
  {
   "cell_type": "code",
   "execution_count": 1,
   "source": [
    "pip install flask"
   ],
   "outputs": [
    {
     "output_type": "stream",
     "name": "stdout",
     "text": [
      "Requirement already satisfied: flask in c:\\users\\user\\anaconda3\\envs\\olympus\\lib\\site-packages (2.0.1)\n",
      "Requirement already satisfied: Werkzeug>=2.0 in c:\\users\\user\\anaconda3\\envs\\olympus\\lib\\site-packages (from flask) (2.0.1)\n",
      "Requirement already satisfied: Jinja2>=3.0 in c:\\users\\user\\anaconda3\\envs\\olympus\\lib\\site-packages (from flask) (3.0.1)\n",
      "Requirement already satisfied: itsdangerous>=2.0 in c:\\users\\user\\anaconda3\\envs\\olympus\\lib\\site-packages (from flask) (2.0.1)\n",
      "Requirement already satisfied: click>=7.1.2 in c:\\users\\user\\anaconda3\\envs\\olympus\\lib\\site-packages (from flask) (7.1.2)\n",
      "Requirement already satisfied: MarkupSafe>=2.0 in c:\\users\\user\\anaconda3\\envs\\olympus\\lib\\site-packages (from Jinja2>=3.0->flask) (2.0.1)\n",
      "Note: you may need to restart the kernel to use updated packages.\n"
     ]
    }
   ],
   "metadata": {
    "scrolled": true
   }
  },
  {
   "cell_type": "code",
   "execution_count": 2,
   "source": [
    "pip install pandas"
   ],
   "outputs": [
    {
     "output_type": "stream",
     "name": "stdout",
     "text": [
      "Requirement already satisfied: pandas in c:\\users\\user\\appdata\\roaming\\python\\python38\\site-packages (1.0.3)\n",
      "Requirement already satisfied: pytz>=2017.2 in c:\\users\\user\\appdata\\roaming\\python\\python38\\site-packages (from pandas) (2019.3)\n",
      "Requirement already satisfied: numpy>=1.13.3 in c:\\users\\user\\appdata\\roaming\\python\\python38\\site-packages (from pandas) (1.18.2)\n",
      "Requirement already satisfied: python-dateutil>=2.6.1 in c:\\users\\user\\anaconda3\\envs\\olympus\\lib\\site-packages (from pandas) (2.8.1)\n",
      "Requirement already satisfied: six>=1.5 in c:\\users\\user\\appdata\\roaming\\python\\python38\\site-packages (from python-dateutil>=2.6.1->pandas) (1.14.0)\n",
      "Note: you may need to restart the kernel to use updated packages.\n"
     ]
    }
   ],
   "metadata": {
    "scrolled": true
   }
  },
  {
   "cell_type": "code",
   "execution_count": 3,
   "source": [
    "pip install spacy"
   ],
   "outputs": [
    {
     "output_type": "stream",
     "name": "stdout",
     "text": [
      "Requirement already satisfied: spacy in c:\\users\\user\\appdata\\roaming\\python\\python38\\site-packages (3.0.6)\n",
      "Requirement already satisfied: pathy>=0.3.5 in c:\\users\\user\\anaconda3\\envs\\olympus\\lib\\site-packages (from spacy) (0.6.0)\n",
      "Requirement already satisfied: numpy>=1.15.0 in c:\\users\\user\\appdata\\roaming\\python\\python38\\site-packages (from spacy) (1.18.2)\n",
      "Requirement already satisfied: spacy-legacy<3.1.0,>=3.0.4 in c:\\users\\user\\anaconda3\\envs\\olympus\\lib\\site-packages (from spacy) (3.0.8)\n",
      "Requirement already satisfied: wasabi<1.1.0,>=0.8.1 in c:\\users\\user\\anaconda3\\envs\\olympus\\lib\\site-packages (from spacy) (0.8.2)\n",
      "Requirement already satisfied: srsly<3.0.0,>=2.4.1 in c:\\users\\user\\anaconda3\\envs\\olympus\\lib\\site-packages (from spacy) (2.4.1)\n",
      "Requirement already satisfied: typer<0.4.0,>=0.3.0 in c:\\users\\user\\anaconda3\\envs\\olympus\\lib\\site-packages (from spacy) (0.3.2)\n",
      "Requirement already satisfied: requests<3.0.0,>=2.13.0 in c:\\users\\user\\appdata\\roaming\\python\\python38\\site-packages (from spacy) (2.23.0)\n",
      "Requirement already satisfied: setuptools in c:\\users\\user\\anaconda3\\envs\\olympus\\lib\\site-packages (from spacy) (52.0.0.post20210125)\n",
      "Requirement already satisfied: murmurhash<1.1.0,>=0.28.0 in c:\\users\\user\\anaconda3\\envs\\olympus\\lib\\site-packages (from spacy) (1.0.5)\n",
      "Requirement already satisfied: jinja2 in c:\\users\\user\\anaconda3\\envs\\olympus\\lib\\site-packages (from spacy) (3.0.1)\n",
      "Requirement already satisfied: tqdm<5.0.0,>=4.38.0 in c:\\users\\user\\anaconda3\\envs\\olympus\\lib\\site-packages (from spacy) (4.61.2)\n",
      "Requirement already satisfied: pydantic<1.8.0,>=1.7.1 in c:\\users\\user\\anaconda3\\envs\\olympus\\lib\\site-packages (from spacy) (1.7.4)\n",
      "Requirement already satisfied: packaging>=20.0 in c:\\users\\user\\anaconda3\\envs\\olympus\\lib\\site-packages (from spacy) (21.0)\n",
      "Requirement already satisfied: cymem<2.1.0,>=2.0.2 in c:\\users\\user\\anaconda3\\envs\\olympus\\lib\\site-packages (from spacy) (2.0.5)\n",
      "Requirement already satisfied: preshed<3.1.0,>=3.0.2 in c:\\users\\user\\anaconda3\\envs\\olympus\\lib\\site-packages (from spacy) (3.0.5)\n",
      "Requirement already satisfied: thinc<8.1.0,>=8.0.3 in c:\\users\\user\\anaconda3\\envs\\olympus\\lib\\site-packages (from spacy) (8.0.7)\n",
      "Requirement already satisfied: catalogue<2.1.0,>=2.0.3 in c:\\users\\user\\anaconda3\\envs\\olympus\\lib\\site-packages (from spacy) (2.0.4)\n",
      "Requirement already satisfied: blis<0.8.0,>=0.4.0 in c:\\users\\user\\anaconda3\\envs\\olympus\\lib\\site-packages (from spacy) (0.7.4)\n",
      "Requirement already satisfied: pyparsing>=2.0.2 in c:\\users\\user\\appdata\\roaming\\python\\python38\\site-packages (from packaging>=20.0->spacy) (2.4.6)\n",
      "Requirement already satisfied: smart-open<6.0.0,>=5.0.0 in c:\\users\\user\\anaconda3\\envs\\olympus\\lib\\site-packages (from pathy>=0.3.5->spacy) (5.1.0)\n",
      "Requirement already satisfied: certifi>=2017.4.17 in c:\\users\\user\\appdata\\roaming\\python\\python38\\site-packages (from requests<3.0.0,>=2.13.0->spacy) (2019.11.28)\n",
      "Requirement already satisfied: idna<3,>=2.5 in c:\\users\\user\\appdata\\roaming\\python\\python38\\site-packages (from requests<3.0.0,>=2.13.0->spacy) (2.9)\n",
      "Requirement already satisfied: urllib3!=1.25.0,!=1.25.1,<1.26,>=1.21.1 in c:\\users\\user\\appdata\\roaming\\python\\python38\\site-packages (from requests<3.0.0,>=2.13.0->spacy) (1.25.8)\n",
      "Requirement already satisfied: chardet<4,>=3.0.2 in c:\\users\\user\\appdata\\roaming\\python\\python38\\site-packages (from requests<3.0.0,>=2.13.0->spacy) (3.0.4)\n",
      "Requirement already satisfied: colorama in c:\\users\\user\\anaconda3\\envs\\olympus\\lib\\site-packages (from tqdm<5.0.0,>=4.38.0->spacy) (0.4.4)\n",
      "Requirement already satisfied: click<7.2.0,>=7.1.1 in c:\\users\\user\\anaconda3\\envs\\olympus\\lib\\site-packages (from typer<0.4.0,>=0.3.0->spacy) (7.1.2)\n",
      "Requirement already satisfied: MarkupSafe>=2.0 in c:\\users\\user\\anaconda3\\envs\\olympus\\lib\\site-packages (from jinja2->spacy) (2.0.1)\n",
      "Note: you may need to restart the kernel to use updated packages.\n"
     ]
    }
   ],
   "metadata": {}
  },
  {
   "cell_type": "code",
   "execution_count": 4,
   "source": [
    "pip install https://github.com/explosion/spacy-models/releases/download/en_core_web_md-3.0.0/en_core_web_md-3.0.0.tar.gz --user"
   ],
   "outputs": [
    {
     "output_type": "stream",
     "name": "stdout",
     "text": [
      "Collecting https://github.com/explosion/spacy-models/releases/download/en_core_web_md-3.0.0/en_core_web_md-3.0.0.tar.gz\n",
      "  Downloading https://github.com/explosion/spacy-models/releases/download/en_core_web_md-3.0.0/en_core_web_md-3.0.0.tar.gz (47.0 MB)\n",
      "Requirement already satisfied: spacy<3.1.0,>=3.0.0 in c:\\users\\user\\appdata\\roaming\\python\\python38\\site-packages (from en-core-web-md==3.0.0) (3.0.6)\n",
      "Requirement already satisfied: packaging>=20.0 in c:\\users\\user\\anaconda3\\envs\\olympus\\lib\\site-packages (from spacy<3.1.0,>=3.0.0->en-core-web-md==3.0.0) (21.0)\n",
      "Requirement already satisfied: tqdm<5.0.0,>=4.38.0 in c:\\users\\user\\anaconda3\\envs\\olympus\\lib\\site-packages (from spacy<3.1.0,>=3.0.0->en-core-web-md==3.0.0) (4.61.2)\n",
      "Requirement already satisfied: blis<0.8.0,>=0.4.0 in c:\\users\\user\\anaconda3\\envs\\olympus\\lib\\site-packages (from spacy<3.1.0,>=3.0.0->en-core-web-md==3.0.0) (0.7.4)\n",
      "Requirement already satisfied: wasabi<1.1.0,>=0.8.1 in c:\\users\\user\\anaconda3\\envs\\olympus\\lib\\site-packages (from spacy<3.1.0,>=3.0.0->en-core-web-md==3.0.0) (0.8.2)\n",
      "Requirement already satisfied: typer<0.4.0,>=0.3.0 in c:\\users\\user\\anaconda3\\envs\\olympus\\lib\\site-packages (from spacy<3.1.0,>=3.0.0->en-core-web-md==3.0.0) (0.3.2)\n",
      "Requirement already satisfied: pathy>=0.3.5 in c:\\users\\user\\anaconda3\\envs\\olympus\\lib\\site-packages (from spacy<3.1.0,>=3.0.0->en-core-web-md==3.0.0) (0.6.0)\n",
      "Requirement already satisfied: requests<3.0.0,>=2.13.0 in c:\\users\\user\\appdata\\roaming\\python\\python38\\site-packages (from spacy<3.1.0,>=3.0.0->en-core-web-md==3.0.0) (2.23.0)\n",
      "Requirement already satisfied: setuptools in c:\\users\\user\\anaconda3\\envs\\olympus\\lib\\site-packages (from spacy<3.1.0,>=3.0.0->en-core-web-md==3.0.0) (52.0.0.post20210125)\n",
      "Requirement already satisfied: jinja2 in c:\\users\\user\\anaconda3\\envs\\olympus\\lib\\site-packages (from spacy<3.1.0,>=3.0.0->en-core-web-md==3.0.0) (3.0.1)\n",
      "Requirement already satisfied: catalogue<2.1.0,>=2.0.3 in c:\\users\\user\\anaconda3\\envs\\olympus\\lib\\site-packages (from spacy<3.1.0,>=3.0.0->en-core-web-md==3.0.0) (2.0.4)\n",
      "Requirement already satisfied: numpy>=1.15.0 in c:\\users\\user\\appdata\\roaming\\python\\python38\\site-packages (from spacy<3.1.0,>=3.0.0->en-core-web-md==3.0.0) (1.18.2)\n",
      "Requirement already satisfied: murmurhash<1.1.0,>=0.28.0 in c:\\users\\user\\anaconda3\\envs\\olympus\\lib\\site-packages (from spacy<3.1.0,>=3.0.0->en-core-web-md==3.0.0) (1.0.5)\n",
      "Requirement already satisfied: preshed<3.1.0,>=3.0.2 in c:\\users\\user\\anaconda3\\envs\\olympus\\lib\\site-packages (from spacy<3.1.0,>=3.0.0->en-core-web-md==3.0.0) (3.0.5)\n",
      "Requirement already satisfied: spacy-legacy<3.1.0,>=3.0.4 in c:\\users\\user\\anaconda3\\envs\\olympus\\lib\\site-packages (from spacy<3.1.0,>=3.0.0->en-core-web-md==3.0.0) (3.0.8)\n",
      "Requirement already satisfied: pydantic<1.8.0,>=1.7.1 in c:\\users\\user\\anaconda3\\envs\\olympus\\lib\\site-packages (from spacy<3.1.0,>=3.0.0->en-core-web-md==3.0.0) (1.7.4)\n",
      "Requirement already satisfied: srsly<3.0.0,>=2.4.1 in c:\\users\\user\\anaconda3\\envs\\olympus\\lib\\site-packages (from spacy<3.1.0,>=3.0.0->en-core-web-md==3.0.0) (2.4.1)\n",
      "Requirement already satisfied: cymem<2.1.0,>=2.0.2 in c:\\users\\user\\anaconda3\\envs\\olympus\\lib\\site-packages (from spacy<3.1.0,>=3.0.0->en-core-web-md==3.0.0) (2.0.5)\n",
      "Requirement already satisfied: thinc<8.1.0,>=8.0.3 in c:\\users\\user\\anaconda3\\envs\\olympus\\lib\\site-packages (from spacy<3.1.0,>=3.0.0->en-core-web-md==3.0.0) (8.0.7)\n",
      "Requirement already satisfied: pyparsing>=2.0.2 in c:\\users\\user\\appdata\\roaming\\python\\python38\\site-packages (from packaging>=20.0->spacy<3.1.0,>=3.0.0->en-core-web-md==3.0.0) (2.4.6)\n",
      "Requirement already satisfied: smart-open<6.0.0,>=5.0.0 in c:\\users\\user\\anaconda3\\envs\\olympus\\lib\\site-packages (from pathy>=0.3.5->spacy<3.1.0,>=3.0.0->en-core-web-md==3.0.0) (5.1.0)\n",
      "Requirement already satisfied: urllib3!=1.25.0,!=1.25.1,<1.26,>=1.21.1 in c:\\users\\user\\appdata\\roaming\\python\\python38\\site-packages (from requests<3.0.0,>=2.13.0->spacy<3.1.0,>=3.0.0->en-core-web-md==3.0.0) (1.25.8)\n",
      "Requirement already satisfied: certifi>=2017.4.17 in c:\\users\\user\\appdata\\roaming\\python\\python38\\site-packages (from requests<3.0.0,>=2.13.0->spacy<3.1.0,>=3.0.0->en-core-web-md==3.0.0) (2019.11.28)\n",
      "Requirement already satisfied: chardet<4,>=3.0.2 in c:\\users\\user\\appdata\\roaming\\python\\python38\\site-packages (from requests<3.0.0,>=2.13.0->spacy<3.1.0,>=3.0.0->en-core-web-md==3.0.0) (3.0.4)\n",
      "Requirement already satisfied: idna<3,>=2.5 in c:\\users\\user\\appdata\\roaming\\python\\python38\\site-packages (from requests<3.0.0,>=2.13.0->spacy<3.1.0,>=3.0.0->en-core-web-md==3.0.0) (2.9)\n",
      "Requirement already satisfied: colorama in c:\\users\\user\\anaconda3\\envs\\olympus\\lib\\site-packages (from tqdm<5.0.0,>=4.38.0->spacy<3.1.0,>=3.0.0->en-core-web-md==3.0.0) (0.4.4)\n",
      "Requirement already satisfied: click<7.2.0,>=7.1.1 in c:\\users\\user\\anaconda3\\envs\\olympus\\lib\\site-packages (from typer<0.4.0,>=0.3.0->spacy<3.1.0,>=3.0.0->en-core-web-md==3.0.0) (7.1.2)\n",
      "Requirement already satisfied: MarkupSafe>=2.0 in c:\\users\\user\\anaconda3\\envs\\olympus\\lib\\site-packages (from jinja2->spacy<3.1.0,>=3.0.0->en-core-web-md==3.0.0) (2.0.1)\n",
      "Note: you may need to restart the kernel to use updated packages.\n"
     ]
    }
   ],
   "metadata": {}
  },
  {
   "cell_type": "code",
   "execution_count": 5,
   "source": [
    "from flask import Flask,render_template,url_for,request\n",
    "import pandas as pd\n",
    "import spacy\n",
    "from spacy import displacy\n",
    "import en_core_web_md\n",
    "import requests"
   ],
   "outputs": [],
   "metadata": {}
  },
  {
   "cell_type": "markdown",
   "source": [
    "# Membuat dan Menggunakan Model NER"
   ],
   "metadata": {}
  },
  {
   "cell_type": "markdown",
   "source": [
    "Sebelum memodelkan bahasa /teks, hal pertama yang dibutuhkan adalah membuat model tersebut. Spacy memudahkan kita dengan memberikan model yang sudah dibuat. \n",
    "\n",
    "Jalankan sintaks berikut untuk meload model bahasa tersebut"
   ],
   "metadata": {}
  },
  {
   "cell_type": "code",
   "execution_count": 6,
   "source": [
    "# load model bahasa spacy\n",
    "nlp = en_core_web_md.load()"
   ],
   "outputs": [],
   "metadata": {}
  },
  {
   "cell_type": "markdown",
   "source": [
    "Setelah memiliki model, komponen penting berikutnya dalah data yang akan dimodelkan. Dalam hal ini, kami memberi contoh sample buku Sherlock Holmes dan teks random sebagai data yang akan dimodelkan. "
   ],
   "metadata": {}
  },
  {
   "cell_type": "code",
   "execution_count": 7,
   "source": [
    "# load teks sherlock holmes\n",
    "# f = open('sherlock_holmes.txt', 'r')\n",
    "# sherlock_holmes = f.read().replace('\\n', ' ')\n",
    "# f.close()\n",
    "\n",
    "# jika tidak ingin teks yang panjang, bisa gunakan contoh teks sendiri \n",
    "text = \"\"\"This text is an example used for Algoritma's Capstone API Project. \n",
    "You can use any named entitiy such person name like Nicola Tesla, Steve Jobs, or even Elon Musk. \n",
    "Please mind that the model is trained on formal writing, thus slang will less likely to be recognized correctly.\"\"\"\n"
   ],
   "outputs": [],
   "metadata": {}
  },
  {
   "cell_type": "markdown",
   "source": [
    "Untuk menggunakan model Entity Recognition milik spacy, cukup masukkan teks sebagai parameter dalam membuat object bahasa seperti contoh berikut: "
   ],
   "metadata": {}
  },
  {
   "cell_type": "code",
   "execution_count": 8,
   "source": [
    "doc = nlp(text)"
   ],
   "outputs": [],
   "metadata": {}
  },
  {
   "cell_type": "markdown",
   "source": [
    "Untuk menampilkan nilai dari teks tersebut, panggil objek `doc` kembali"
   ],
   "metadata": {}
  },
  {
   "cell_type": "code",
   "execution_count": 9,
   "source": [
    "len(doc.ents)"
   ],
   "outputs": [
    {
     "output_type": "execute_result",
     "data": {
      "text/plain": [
       "4"
      ]
     },
     "metadata": {},
     "execution_count": 9
    }
   ],
   "metadata": {}
  },
  {
   "cell_type": "code",
   "execution_count": 10,
   "source": [
    "print(doc.ents[0],doc.ents[0].label_)"
   ],
   "outputs": [
    {
     "output_type": "stream",
     "name": "stdout",
     "text": [
      "Algoritma ORG\n"
     ]
    }
   ],
   "metadata": {}
  },
  {
   "cell_type": "code",
   "execution_count": 11,
   "source": [
    "print(doc.ents[3].text ,doc.ents[3].label_)"
   ],
   "outputs": [
    {
     "output_type": "stream",
     "name": "stdout",
     "text": [
      "Steve Jobs PERSON\n"
     ]
    }
   ],
   "metadata": {
    "scrolled": true
   }
  },
  {
   "cell_type": "code",
   "execution_count": 12,
   "source": [
    "doc"
   ],
   "outputs": [
    {
     "output_type": "execute_result",
     "data": {
      "text/plain": [
       "This text is an example used for Algoritma's Capstone API Project. \n",
       "You can use any named entitiy such person name like Nicola Tesla, Steve Jobs, or even Elon Musk. \n",
       "Please mind that the model is trained on formal writing, thus slang will less likely to be recognized correctly."
      ]
     },
     "metadata": {},
     "execution_count": 12
    }
   ],
   "metadata": {}
  },
  {
   "cell_type": "markdown",
   "source": [
    "Untuk mengakes seluruh element entitas , jalankan sintaks berikut : \n"
   ],
   "metadata": {}
  },
  {
   "cell_type": "code",
   "execution_count": 13,
   "source": [
    "d = [(ent.label_, ent.text) for ent in doc.ents]"
   ],
   "outputs": [],
   "metadata": {}
  },
  {
   "cell_type": "code",
   "execution_count": 14,
   "source": [
    "# membuat pasangan label dan nilai entitas\r\n",
    "d = [(ent.label_, ent.text) for ent in doc.ents]\r\n",
    "\r\n",
    "# transform pasangan label menjadi dataframe \r\n",
    "df = pd.DataFrame(d, columns=['category', 'value'])"
   ],
   "outputs": [],
   "metadata": {}
  },
  {
   "cell_type": "code",
   "execution_count": 15,
   "source": [
    "df"
   ],
   "outputs": [
    {
     "output_type": "execute_result",
     "data": {
      "text/plain": [
       "  category                 value\n",
       "0      ORG             Algoritma\n",
       "1      ORG  Capstone API Project\n",
       "2   PERSON          Nicola Tesla\n",
       "3   PERSON            Steve Jobs"
      ],
      "text/html": [
       "<div>\n",
       "<style scoped>\n",
       "    .dataframe tbody tr th:only-of-type {\n",
       "        vertical-align: middle;\n",
       "    }\n",
       "\n",
       "    .dataframe tbody tr th {\n",
       "        vertical-align: top;\n",
       "    }\n",
       "\n",
       "    .dataframe thead th {\n",
       "        text-align: right;\n",
       "    }\n",
       "</style>\n",
       "<table border=\"1\" class=\"dataframe\">\n",
       "  <thead>\n",
       "    <tr style=\"text-align: right;\">\n",
       "      <th></th>\n",
       "      <th>category</th>\n",
       "      <th>value</th>\n",
       "    </tr>\n",
       "  </thead>\n",
       "  <tbody>\n",
       "    <tr>\n",
       "      <th>0</th>\n",
       "      <td>ORG</td>\n",
       "      <td>Algoritma</td>\n",
       "    </tr>\n",
       "    <tr>\n",
       "      <th>1</th>\n",
       "      <td>ORG</td>\n",
       "      <td>Capstone API Project</td>\n",
       "    </tr>\n",
       "    <tr>\n",
       "      <th>2</th>\n",
       "      <td>PERSON</td>\n",
       "      <td>Nicola Tesla</td>\n",
       "    </tr>\n",
       "    <tr>\n",
       "      <th>3</th>\n",
       "      <td>PERSON</td>\n",
       "      <td>Steve Jobs</td>\n",
       "    </tr>\n",
       "  </tbody>\n",
       "</table>\n",
       "</div>"
      ]
     },
     "metadata": {},
     "execution_count": 15
    }
   ],
   "metadata": {}
  },
  {
   "cell_type": "code",
   "execution_count": 16,
   "source": [
    "df[df['category'] == 'ORG']"
   ],
   "outputs": [
    {
     "output_type": "execute_result",
     "data": {
      "text/plain": [
       "  category                 value\n",
       "0      ORG             Algoritma\n",
       "1      ORG  Capstone API Project"
      ],
      "text/html": [
       "<div>\n",
       "<style scoped>\n",
       "    .dataframe tbody tr th:only-of-type {\n",
       "        vertical-align: middle;\n",
       "    }\n",
       "\n",
       "    .dataframe tbody tr th {\n",
       "        vertical-align: top;\n",
       "    }\n",
       "\n",
       "    .dataframe thead th {\n",
       "        text-align: right;\n",
       "    }\n",
       "</style>\n",
       "<table border=\"1\" class=\"dataframe\">\n",
       "  <thead>\n",
       "    <tr style=\"text-align: right;\">\n",
       "      <th></th>\n",
       "      <th>category</th>\n",
       "      <th>value</th>\n",
       "    </tr>\n",
       "  </thead>\n",
       "  <tbody>\n",
       "    <tr>\n",
       "      <th>0</th>\n",
       "      <td>ORG</td>\n",
       "      <td>Algoritma</td>\n",
       "    </tr>\n",
       "    <tr>\n",
       "      <th>1</th>\n",
       "      <td>ORG</td>\n",
       "      <td>Capstone API Project</td>\n",
       "    </tr>\n",
       "  </tbody>\n",
       "</table>\n",
       "</div>"
      ]
     },
     "metadata": {},
     "execution_count": 16
    }
   ],
   "metadata": {}
  },
  {
   "cell_type": "markdown",
   "source": [
    "# Membuat API NER dengan tampilan Web "
   ],
   "metadata": {}
  },
  {
   "cell_type": "markdown",
   "source": [
    "## app.py"
   ],
   "metadata": {}
  },
  {
   "cell_type": "markdown",
   "source": [
    "Untuk membuat aplikasi NER dengan flask, silakan **lengkapi code berikut** dan salin kedalam file `app.py`."
   ],
   "metadata": {}
  },
  {
   "cell_type": "code",
   "execution_count": 14,
   "source": [
    "from flask import Flask,render_template,url_for,request, jsonify\r\n",
    "import re\r\n",
    "import pandas as pd\r\n",
    "import spacy\r\n",
    "from spacy import displacy\r\n",
    "import en_core_web_md\r\n",
    "import json \r\n",
    "\r\n",
    "# @TASK : Load model bahasa \r\n",
    "nlp = en_core_web_md.load()\r\n",
    "# END OF TASK \r\n",
    "\r\n",
    "app = Flask(__name__)\r\n",
    "\r\n",
    "@app.route('/')\r\n",
    "def index():\r\n",
    "    return render_template(\"index.html\")\r\n",
    "\r\n",
    "@app.route('/process',methods=[\"POST\"])\r\n",
    "def process():\r\n",
    "    if request.method == 'POST':\r\n",
    "        choice = request.form['taskoption']\r\n",
    "        rawtext = request.form['rawtext']\r\n",
    "        doc = nlp(rawtext)\r\n",
    "        d = []\r\n",
    "        if len(doc.ents > 0):\r\n",
    "            for ent in doc.ents:\r\n",
    "                d.append((ent.label_, ent.text))\r\n",
    "                df = pd.DataFrame(d, columns=['category', 'value'])\r\n",
    "\r\n",
    "                # @TASK : COMPLETE THE FOLLOWING CODES\r\n",
    "                ORG_named_entity = df[df['category'] == 'ORG'] # Subset semua entitas dengan kategori 'ORG'\r\n",
    "                PERSON_named_entity = df[df['category'] == 'PERSON'] # Subset semua entitas dengan kategori 'PERSON'\r\n",
    "                GPE_named_entity = df[df['category'] == 'GPE'] # Subset semua entitas dengan kategori 'GPE'\r\n",
    "                MONEY_named_entity = df[df['category'] == 'MONEY'] # Subset semua entitas dengan kategori 'MONEY'\r\n",
    "                # END OF TASK \r\n",
    "\r\n",
    "            if choice == 'organization':\r\n",
    "                results = ORG_named_entity\r\n",
    "                num_of_results = len(results)\r\n",
    "            elif choice == 'person':\r\n",
    "                results = PERSON_named_entity\r\n",
    "                num_of_results = len(results)\r\n",
    "            elif choice == 'geopolitical':\r\n",
    "                results = GPE_named_entity\r\n",
    "                num_of_results = len(results)\r\n",
    "            elif choice == 'money':\r\n",
    "                results = MONEY_named_entity\r\n",
    "                num_of_results = len(results)\r\n",
    "            elif choice == 'Select Category':\r\n",
    "                results = pd.DataFrame()\r\n",
    "                num_of_results = len(results)\r\n",
    "        else:\r\n",
    "            results = pd.DataFrame()\r\n",
    "            num_of_results = len(results)\r\n",
    "\r\n",
    "    return render_template(\"index.html\",results=results,num_of_results = num_of_results, original_text = rawtext)\r\n",
    "\r\n",
    "\r\n",
    "if __name__ == '__main__':\r\n",
    "    app.run(debug=True)\r\n"
   ],
   "outputs": [
    {
     "output_type": "stream",
     "name": "stdout",
     "text": [
      " * Serving Flask app '__main__' (lazy loading)\n",
      " * Environment: production\n",
      "   WARNING: This is a development server. Do not use it in a production deployment.\n",
      "   Use a production WSGI server instead.\n",
      " * Debug mode: on\n"
     ]
    },
    {
     "output_type": "stream",
     "name": "stderr",
     "text": [
      " * Restarting with stat\n"
     ]
    },
    {
     "output_type": "error",
     "ename": "SystemExit",
     "evalue": "1",
     "traceback": [
      "An exception has occurred, use %tb to see the full traceback.\n",
      "\u001b[1;31mSystemExit\u001b[0m\u001b[1;31m:\u001b[0m 1\n"
     ]
    },
    {
     "output_type": "stream",
     "name": "stderr",
     "text": [
      "C:\\Users\\User\\AppData\\Roaming\\Python\\Python38\\site-packages\\IPython\\core\\interactiveshell.py:3334: UserWarning: To exit: use 'exit', 'quit', or Ctrl-D.\n",
      "  warn(\"To exit: use 'exit', 'quit', or Ctrl-D.\", stacklevel=1)\n"
     ]
    }
   ],
   "metadata": {}
  },
  {
   "cell_type": "markdown",
   "source": [
    "## menjalankan app.py"
   ],
   "metadata": {}
  },
  {
   "cell_type": "markdown",
   "source": [
    "Untuk menjalankan app.py, silakan buka terminal/console/anaconda prompt menuju direktori tempat app.py berada, lalu jalnkan sintaks \n",
    "`python app.py` .\n",
    "\n",
    "Jika code berjalan dengan baik, silakan buka laman yang dirujuk pada console (biasanya http://127.0.0.1:5000/) melalui browser dan aplikasi akan berjalan sesuai tampilan berikut : \n",
    "\n",
    "![](assets/default_homepage.png)"
   ],
   "metadata": {}
  },
  {
   "cell_type": "markdown",
   "source": [
    "Setelah aplikasi berjalan, silakan inputkan teks dan pilih kategori yang akan diekstrak, lalu pilih submit. Jika tidak ada eror, maka form result akan memberikan hasil kembalian berupa banyaknya entitas yang dikenali dan list entitas tersebut. "
   ],
   "metadata": {}
  },
  {
   "cell_type": "markdown",
   "source": [
    "# Membuat API NER tanpa tampilan WEB"
   ],
   "metadata": {}
  },
  {
   "cell_type": "markdown",
   "source": [
    "## Membuat Endpoint"
   ],
   "metadata": {}
  },
  {
   "cell_type": "markdown",
   "source": [
    "Dalam web service, endpoint adalah sebuah alamat spesifik yang ditujukan untuk kebutuhan khusus. \n",
    "Sebagai contoh, berikut adalah beberapa endpoint web API milik spotify : \n",
    "- https://api.spotify.com/v1/albums{id} : Digunakan untuk mengakses album dengan album id = id\n",
    "- https://api.spotify.com/v1/artists/{id} : digunakan untuk mengakses artist dengan artist id = id\n",
    "- https://api.spotify.com/v1/tracks/{id} : digunakan untuk mengakses tracks dengan track id = id\n",
    "\n",
    "Dalam flask, endpoint dinotasikan dengan `@app.route('alamat endpoint')`, diikuti dengan fungsi yang akan dijalankan. \n",
    "Sebelumnya, dalam `app.py`, kita sudah membuat sebuah endpoint home ('/') dengan sintaks : \n",
    "```python\n",
    "@app.route('/')\n",
    "def index():\n",
    "    return render_template(\"index.html\")\n",
    "```    \n",
    "\n",
    "Menggunakan sintaks diatas, ketika user mengakses aplikasi kita di menu utama, maka fungsi `index()` akan dijalankan. \n",
    "\n",
    "Sebagai contoh tambahan, coba salin sintaks berikut kedalam `app.py` dan coba akses endpoint tersebut \n",
    "\n",
    "```python\n",
    "@app.route('/endpoint_tertentu')\n",
    "def nama_fungsi_tertentu():\n",
    "    # secara teknis, kita dapat melakukan apapun dalam fungsi ini \n",
    "    return (\"Fungsi ini akan dijalankan saat endpoint tersebut diakses\")\n",
    "```\n",
    "\n",
    "\n",
    "**notes**: nama fungsi dalam aplikasi flask harus unik. "
   ],
   "metadata": {}
  },
  {
   "cell_type": "markdown",
   "source": [
    "## Endpoint Methods"
   ],
   "metadata": {}
  },
  {
   "cell_type": "markdown",
   "source": [
    "Senada dengan konsep CRUD (Create, Read, Update, Delete) dalam database, dalam API konsep tersebut diadopsi menjadi :\n",
    "- POST(CREATE),\n",
    "- GET(READ),\n",
    "- PUT(UPDATE),\n",
    "- DELETE\n",
    "\n",
    "Secara konsep, method POST, GET, PUT, dan DELETE dibuat untuk mengatur API agar dapat lebih terstruktur. Meskipun pada prakterknya, endpoint yang kita definisikan menggunakan method \"POST\" tidaklah harus untuk membuat data. Artinya, tidak ada aturan yang mengharuskan kita untuk menuliskan jenis method dalam setiap endpoints kita (default endpoints menggunakan method GET).\n",
    "\n",
    "Dalam capstone ini, kita hanya akan berfokus pada 2 jenis method, GET dan POST. Sebagai contoh tambahan, silakan salin sintaks enspoint berikut kedalma `app.py`, lalu jalankan ulang aplikasinya dan lihat perbedaan saat melakukan akses terhadap kedua endpoint tersebut. \n",
    "\n",
    "```python\n",
    "@app.route('/endpoint_get', methods=['GET'])\n",
    "def contoh_get():\n",
    "    return (\"Contoh endpoint get\")\n",
    "    \n",
    "@app.route('/endpoint_post', methods=['POST'])\n",
    "def contoh_post():\n",
    "    return (\"Contoh endpoint post\")\n",
    "    \n",
    "@app.route('/endpoint_multi', methods=['GET', 'POST'])\n",
    "def multi_method():\n",
    "    if request.method == 'POST':\n",
    "        return (\"Nilai ini akan dikembalikan jika endpoint ini diakses dengan method POST\")\n",
    "    else : \n",
    "        return (\"Nilai ini akan dikembalikan jika endpoint ini diakses dengan method GET\")\n",
    "```\n"
   ],
   "metadata": {}
  },
  {
   "cell_type": "markdown",
   "source": [
    "**Note : Secara default, mengakses endpoint melaui browser akan menggunakan method 'GET'**. \n",
    "\n",
    "Untuk mempermudah pengujian, disarankan untuk menggunakan tools lain seperti \"postman\", atau menggunakan python. \n"
   ],
   "metadata": {}
  },
  {
   "cell_type": "markdown",
   "source": [
    "## Mengakses endpoint menggunakan python"
   ],
   "metadata": {}
  },
  {
   "cell_type": "markdown",
   "source": [
    "Dalam banyak kasus, web API tidak dipanggil melalui browser, melainkan pada level aplikasi / code. Untuk mengakses web api menggunakan python, gunakan `curl` atau `requests`. Code berikut akan mengakses endpoint yang sama dengan method yang berbeda: "
   ],
   "metadata": {}
  },
  {
   "cell_type": "code",
   "execution_count": 17,
   "source": [
    "import requests\r\n",
    "response_post = requests.request(method='POST', url='https://eksa-api.herokuapp.com/endpoint_multi')\r\n",
    "response_get = requests.request(method='GET', url='https://eksa-api.herokuapp.com/endpoint_multi')"
   ],
   "outputs": [],
   "metadata": {}
  },
  {
   "cell_type": "markdown",
   "source": [
    "Respon dari sebuah service web API dibungkus dalam http response. Jika objek `response_post` dipanggil, maka yang tampil adalah nilai kode status repons tersebut (silakan merujuk referensi HTTP response code untuk informasi lebih lengkap) : "
   ],
   "metadata": {}
  },
  {
   "cell_type": "code",
   "execution_count": 18,
   "source": [
    "response_post"
   ],
   "outputs": [
    {
     "output_type": "execute_result",
     "data": {
      "text/plain": [
       "<Response [200]>"
      ]
     },
     "metadata": {},
     "execution_count": 18
    }
   ],
   "metadata": {}
  },
  {
   "cell_type": "code",
   "execution_count": 19,
   "source": [
    "# secara eksplisit mengambil atribut status code dari objek response\r\n",
    "response_post.status_code"
   ],
   "outputs": [
    {
     "output_type": "execute_result",
     "data": {
      "text/plain": [
       "200"
      ]
     },
     "metadata": {},
     "execution_count": 19
    }
   ],
   "metadata": {}
  },
  {
   "cell_type": "markdown",
   "source": [
    "Untuk dapat mengambil konten dari nilai yang diterima, akses atribut .text atau .json jika nilai yang diterima berupa json"
   ],
   "metadata": {}
  },
  {
   "cell_type": "code",
   "execution_count": 20,
   "source": [
    "response_post.text"
   ],
   "outputs": [
    {
     "output_type": "execute_result",
     "data": {
      "text/plain": [
       "'Nilai ini akan dikembalikan jika endpoint ini diakses dengan method POST'"
      ]
     },
     "metadata": {},
     "execution_count": 20
    }
   ],
   "metadata": {}
  },
  {
   "cell_type": "code",
   "execution_count": 21,
   "source": [
    "response_get.text"
   ],
   "outputs": [
    {
     "output_type": "execute_result",
     "data": {
      "text/plain": [
       "'Nilai ini akan dikembalikan jika endpoint ini diakses dengan method GET'"
      ]
     },
     "metadata": {},
     "execution_count": 21
    }
   ],
   "metadata": {}
  },
  {
   "cell_type": "markdown",
   "source": [
    "Referensi : [HTTP response code, by mozilla](https://developer.mozilla.org/id/docs/Web/HTTP/Status)"
   ],
   "metadata": {}
  },
  {
   "cell_type": "markdown",
   "source": [
    "## Mengirim data ke endpoint"
   ],
   "metadata": {}
  },
  {
   "cell_type": "markdown",
   "source": [
    "Untuk melakukan ekstraksi entitas terhadap data yang kita miliki pada layanan web api, kita harus mengirimkan data tersebut melalui protokol http. \n",
    "Method API yang biasa digunakan dalam melayani request tersebut adalah POST. \n",
    "Agar data dapat dikirim dengan baik, data harus dikirim dalam bentuk objek JSON (JSON dalam python = Dictionary). \n",
    "\n",
    "\n",
    "Sebagai contoh, sintaks berikut akan mengirimkan data json kedalam endpoint yang dituju. "
   ],
   "metadata": {}
  },
  {
   "cell_type": "code",
   "execution_count": 22,
   "source": [
    "# membuat data yang akan dikirim (dalam bentuk dictionary)\r\n",
    "data_yang_akan_dikirim = {\r\n",
    "    'nama' : 'Steve', \r\n",
    "    'usia' : 12, \r\n",
    "    'pekerjaan' : 'Data Scientist'\r\n",
    "}\r\n",
    "\r\n",
    "# endpoint yang akan dituju\r\n",
    "endpoint = 'https://eksa-api.herokuapp.com/tes_send_json'\r\n",
    "\r\n",
    "# mengeksekusi request\r\n",
    "response = requests.request(method='POST', url=endpoint, json=data_yang_akan_dikirim)"
   ],
   "outputs": [],
   "metadata": {}
  },
  {
   "cell_type": "code",
   "execution_count": 23,
   "source": [
    "response"
   ],
   "outputs": [
    {
     "output_type": "execute_result",
     "data": {
      "text/plain": [
       "<Response [200]>"
      ]
     },
     "metadata": {},
     "execution_count": 23
    }
   ],
   "metadata": {}
  },
  {
   "cell_type": "markdown",
   "source": [
    "Jika dijalankan, sintaks diatas tentu akan menghasilkan error. Hal ini dikarenakan pada aplikasi kita belum terdapat endpoint `'/send_json'`. \n",
    "Ikuti langkah berikutnya untuk membuat endpoint yang dapat menerima objek yang kita kirim tersebut "
   ],
   "metadata": {}
  },
  {
   "cell_type": "markdown",
   "source": [
    "## Membuat endpoint yang menerima data"
   ],
   "metadata": {}
  },
  {
   "cell_type": "markdown",
   "source": [
    "Untuk membaca data yang dikirimkan pada endpoint tertentu, kita dapat menggunakan method method `request.get_json()` dari flask. (Silakan merujuk ke app.py dan pastikan terdapat sintaks `from flask import request`. \n",
    "\n",
    "Silakan tambahkan endpoint dibawah ini pada `app.py` dan jalankan kembali request pada segmen sebelumnya"
   ],
   "metadata": {}
  },
  {
   "cell_type": "markdown",
   "source": [
    "```python\n",
    "@app.route('/tes_send_json', methods=['POST'])\n",
    "def tes_send_json():\n",
    "    data = request.get_json() # proses membaca json yang dikirim \n",
    "    nama = data['nama']\n",
    "    usia = data['usia']\n",
    "    pekerjaan = data['pekerjaan']\n",
    "    \n",
    "    return (\"Halo, {nama}. Usiamu adalah {usia} dan pekerjaanmu adalah {pekerjaan}\".format(nama=nama, usia=usia, pekerjaan=pekerjaan))\n",
    "```"
   ],
   "metadata": {}
  },
  {
   "cell_type": "code",
   "execution_count": 24,
   "source": [
    "# coba jalankan request di segment sebelumnya\r\n",
    "\r\n",
    "data_yang_akan_dikirim = {\r\n",
    "    'nama' : 'Steve', \r\n",
    "    'usia' : 12, \r\n",
    "    'pekerjaan' : 'Data Scientist'\r\n",
    "}\r\n",
    "\r\n",
    "endpoint = 'https://eksa-api.herokuapp.com/tes_send_json'\r\n",
    "\r\n",
    "response = requests.request(method='POST', url=endpoint, json=data_yang_akan_dikirim)\r\n"
   ],
   "outputs": [],
   "metadata": {}
  },
  {
   "cell_type": "code",
   "execution_count": 25,
   "source": [
    "response.text"
   ],
   "outputs": [
    {
     "output_type": "execute_result",
     "data": {
      "text/plain": [
       "'Halo, Steve. Usiamu adalah 12 dan pekerjaanmu adalah Data Scientist'"
      ]
     },
     "metadata": {},
     "execution_count": 25
    }
   ],
   "metadata": {}
  },
  {
   "cell_type": "markdown",
   "source": [
    "## Mengembalikan hasil pemrosesan sebagai objek JSON dari endpoint"
   ],
   "metadata": {}
  },
  {
   "cell_type": "markdown",
   "source": [
    "Dalam beberapa kasus, analisis atau pengelolaan yang kita lakukan berakhir pada tipe data DataFrame milik pandas. Untuk mengubah DataFrame menjadi json, gunakan method `.to_json()`. Berikut adalah contoh endpoint yang mengembalikan dataframe dalam bentuk json."
   ],
   "metadata": {}
  },
  {
   "cell_type": "markdown",
   "source": [
    "```python\n",
    "@app.route('/tes_return_json', methods=['POST'])\n",
    "def tes_return_json():\n",
    "    data = request.get_json() # proses membaca json yang dikirim \n",
    "    df = pd.DataFrame([data]) # mengolah data menjadi dataframe\n",
    "\n",
    "    return (df.to_json()) # mengembalikan dataframe dalam bentuk json\n",
    "```"
   ],
   "metadata": {}
  },
  {
   "cell_type": "code",
   "execution_count": 26,
   "source": [
    "data_yang_akan_dikirim = {\r\n",
    "    'nama' : 'Steve', \r\n",
    "    'usia' : 12, \r\n",
    "    'pekerjaan' : 'Data Scientist'\r\n",
    "}\r\n",
    "\r\n",
    "endpoint = 'https://eksa-api.herokuapp.com/tes_return_json'\r\n",
    "\r\n",
    "response = requests.request(method='POST', url=endpoint, json=data_yang_akan_dikirim)"
   ],
   "outputs": [],
   "metadata": {}
  },
  {
   "cell_type": "code",
   "execution_count": 27,
   "source": [
    "response.text"
   ],
   "outputs": [
    {
     "output_type": "execute_result",
     "data": {
      "text/plain": [
       "'{\"nama\":{\"0\":\"Steve\"},\"usia\":{\"0\":12},\"pekerjaan\":{\"0\":\"Data Scientist\"}}'"
      ]
     },
     "metadata": {},
     "execution_count": 27
    }
   ],
   "metadata": {}
  },
  {
   "cell_type": "code",
   "execution_count": 28,
   "source": [
    "response.json()"
   ],
   "outputs": [
    {
     "output_type": "execute_result",
     "data": {
      "text/plain": [
       "{'nama': {'0': 'Steve'},\n",
       " 'usia': {'0': 12},\n",
       " 'pekerjaan': {'0': 'Data Scientist'}}"
      ]
     },
     "metadata": {},
     "execution_count": 28
    }
   ],
   "metadata": {}
  },
  {
   "cell_type": "code",
   "execution_count": 29,
   "source": [
    "pd.DataFrame(response.json())"
   ],
   "outputs": [
    {
     "output_type": "execute_result",
     "data": {
      "text/plain": [
       "    nama  usia       pekerjaan\n",
       "0  Steve    12  Data Scientist"
      ],
      "text/html": [
       "<div>\n",
       "<style scoped>\n",
       "    .dataframe tbody tr th:only-of-type {\n",
       "        vertical-align: middle;\n",
       "    }\n",
       "\n",
       "    .dataframe tbody tr th {\n",
       "        vertical-align: top;\n",
       "    }\n",
       "\n",
       "    .dataframe thead th {\n",
       "        text-align: right;\n",
       "    }\n",
       "</style>\n",
       "<table border=\"1\" class=\"dataframe\">\n",
       "  <thead>\n",
       "    <tr style=\"text-align: right;\">\n",
       "      <th></th>\n",
       "      <th>nama</th>\n",
       "      <th>usia</th>\n",
       "      <th>pekerjaan</th>\n",
       "    </tr>\n",
       "  </thead>\n",
       "  <tbody>\n",
       "    <tr>\n",
       "      <th>0</th>\n",
       "      <td>Steve</td>\n",
       "      <td>12</td>\n",
       "      <td>Data Scientist</td>\n",
       "    </tr>\n",
       "  </tbody>\n",
       "</table>\n",
       "</div>"
      ]
     },
     "metadata": {},
     "execution_count": 29
    }
   ],
   "metadata": {}
  },
  {
   "cell_type": "markdown",
   "source": [
    "## Task : Endpoint "
   ],
   "metadata": {}
  },
  {
   "cell_type": "markdown",
   "source": [
    "Sebagai tugas dalam capstone ini, buatlah endpoint yang dapat mengembalikan **semua** jenis entitas dari teks yang dikirim. \n",
    "\n",
    "Berikut adalah spesifikasi singkat dari endpoint tersebut\n",
    "- Input : Teks dalam bentuk JSON, dengan raw teks disimpan dalam elemen \"text\" seperti contoh berikut: \n",
    "```python\n",
    "{\n",
    "    \"text\" : \"ini adalah contoh teks yang dikirim\"\n",
    "}\n",
    "```\n",
    "- Output : Bentuk JSON dari dataframe yang berisi 2 kolom (kategori entitas, value). \n",
    "\n",
    "Untuk menyelesaikan task tersebut silakan lengkapi code endpoint berikut lalu tambahkan pada `app.py`"
   ],
   "metadata": {}
  },
  {
   "cell_type": "code",
   "execution_count": null,
   "source": [
    "@app.route('/get_entities', methods=['POST'])\r\n",
    "def get_entities():\r\n",
    "    \r\n",
    "    # ambil data dari json yang diterima endpoint\r\n",
    "    data = ???\r\n",
    "    \r\n",
    "    # ambil nilai teks dari data\r\n",
    "    text = ???\r\n",
    "    \r\n",
    "    # modelkan teks dengan model scipy \r\n",
    "    doc = ???\r\n",
    "    \r\n",
    "    # membuat pasangan label dan nilai entitas\r\n",
    "    d = ???\r\n",
    "\r\n",
    "    # transform pasangan label menjadi dataframe \r\n",
    "    df = ???\r\n",
    "    \r\n",
    "    return (df.to_json())"
   ],
   "outputs": [],
   "metadata": {}
  },
  {
   "cell_type": "code",
   "execution_count": 30,
   "source": [
    "# Jalankan sintaks berikut untuk menguji endpoint tersebut\r\n",
    "\r\n",
    "text = \"\"\"This text is an example used for Algoritma's Capstone API Project. \r\n",
    "You can use any named entitiy such person name like Nicola Tesla, Steve Jobs, or even Elon Musk. \r\n",
    "You can also use organization name such Algoritma, Facebook, Apple.\"\"\"\r\n",
    "\r\n",
    "data = {\"text\": text}\r\n",
    "url = 'https://eksa-api.herokuapp.com/get_entities'\r\n",
    "response = requests.request(method='POST', url=url, json=data)\r\n",
    "response.json()"
   ],
   "outputs": [
    {
     "output_type": "execute_result",
     "data": {
      "text/plain": [
       "{'category': {'0': 'ORG',\n",
       "  '1': 'ORG',\n",
       "  '2': 'PERSON',\n",
       "  '3': 'PERSON',\n",
       "  '4': 'GPE',\n",
       "  '5': 'PERSON',\n",
       "  '6': 'ORG'},\n",
       " 'value': {'0': 'Algoritma',\n",
       "  '1': 'Capstone API Project',\n",
       "  '2': 'Nicola Tesla',\n",
       "  '3': 'Steve Jobs',\n",
       "  '4': 'Algoritma',\n",
       "  '5': 'Facebook',\n",
       "  '6': 'Apple'}}"
      ]
     },
     "metadata": {},
     "execution_count": 30
    }
   ],
   "metadata": {}
  },
  {
   "cell_type": "code",
   "execution_count": 31,
   "source": [
    "eksa=pd.DataFrame(response.json())"
   ],
   "outputs": [],
   "metadata": {}
  },
  {
   "cell_type": "code",
   "execution_count": 32,
   "source": [
    "eksa"
   ],
   "outputs": [
    {
     "output_type": "execute_result",
     "data": {
      "text/plain": [
       "  category                 value\n",
       "0      ORG             Algoritma\n",
       "1      ORG  Capstone API Project\n",
       "2   PERSON          Nicola Tesla\n",
       "3   PERSON            Steve Jobs\n",
       "4      GPE             Algoritma\n",
       "5   PERSON              Facebook\n",
       "6      ORG                 Apple"
      ],
      "text/html": [
       "<div>\n",
       "<style scoped>\n",
       "    .dataframe tbody tr th:only-of-type {\n",
       "        vertical-align: middle;\n",
       "    }\n",
       "\n",
       "    .dataframe tbody tr th {\n",
       "        vertical-align: top;\n",
       "    }\n",
       "\n",
       "    .dataframe thead th {\n",
       "        text-align: right;\n",
       "    }\n",
       "</style>\n",
       "<table border=\"1\" class=\"dataframe\">\n",
       "  <thead>\n",
       "    <tr style=\"text-align: right;\">\n",
       "      <th></th>\n",
       "      <th>category</th>\n",
       "      <th>value</th>\n",
       "    </tr>\n",
       "  </thead>\n",
       "  <tbody>\n",
       "    <tr>\n",
       "      <th>0</th>\n",
       "      <td>ORG</td>\n",
       "      <td>Algoritma</td>\n",
       "    </tr>\n",
       "    <tr>\n",
       "      <th>1</th>\n",
       "      <td>ORG</td>\n",
       "      <td>Capstone API Project</td>\n",
       "    </tr>\n",
       "    <tr>\n",
       "      <th>2</th>\n",
       "      <td>PERSON</td>\n",
       "      <td>Nicola Tesla</td>\n",
       "    </tr>\n",
       "    <tr>\n",
       "      <th>3</th>\n",
       "      <td>PERSON</td>\n",
       "      <td>Steve Jobs</td>\n",
       "    </tr>\n",
       "    <tr>\n",
       "      <th>4</th>\n",
       "      <td>GPE</td>\n",
       "      <td>Algoritma</td>\n",
       "    </tr>\n",
       "    <tr>\n",
       "      <th>5</th>\n",
       "      <td>PERSON</td>\n",
       "      <td>Facebook</td>\n",
       "    </tr>\n",
       "    <tr>\n",
       "      <th>6</th>\n",
       "      <td>ORG</td>\n",
       "      <td>Apple</td>\n",
       "    </tr>\n",
       "  </tbody>\n",
       "</table>\n",
       "</div>"
      ]
     },
     "metadata": {},
     "execution_count": 32
    }
   ],
   "metadata": {
    "scrolled": false
   }
  },
  {
   "cell_type": "code",
   "execution_count": 33,
   "source": [
    "eksa.to_json()"
   ],
   "outputs": [
    {
     "output_type": "execute_result",
     "data": {
      "text/plain": [
       "'{\"category\":{\"0\":\"ORG\",\"1\":\"ORG\",\"2\":\"PERSON\",\"3\":\"PERSON\",\"4\":\"GPE\",\"5\":\"PERSON\",\"6\":\"ORG\"},\"value\":{\"0\":\"Algoritma\",\"1\":\"Capstone API Project\",\"2\":\"Nicola Tesla\",\"3\":\"Steve Jobs\",\"4\":\"Algoritma\",\"5\":\"Facebook\",\"6\":\"Apple\"}}'"
      ]
     },
     "metadata": {},
     "execution_count": 33
    }
   ],
   "metadata": {}
  },
  {
   "cell_type": "markdown",
   "source": [
    "## Task Endpoint (bonus)"
   ],
   "metadata": {}
  },
  {
   "cell_type": "markdown",
   "source": [
    "Jika dilihat dari hasil kembalian endpoint sebelumnya nilai return JSON yang dihasilkan sedikit tidak lazim, dimana sewajarnya nilai setiap entitas dikelompokkan sebagai values kedalam setiap kategori. \n",
    "\n",
    "\n",
    "**Bonus Task** : Buatlah endpoint `'/get_entities_normalized'` yang menghasilkan JSON dengan key jenis kategori entitas, dan value berupa list dari entitas dengan kategori yang bersangkutan. Berikut ilustrasi dari nilai return endpoint yang diinginkan :  \n",
    "\n",
    "```python\n",
    "{category1 : [value1, value2, ... , valuen],\n",
    " category2 : [value1, value2, ... , valuen],}\n",
    "```"
   ],
   "metadata": {}
  },
  {
   "cell_type": "code",
   "execution_count": 38,
   "source": [
    "text = \"\"\"\r\n",
    "    'Apple is looking at buying U.K. startup for $1 billion',\r\n",
    "    'Mr. Maldonado flicked his turn signal and moved right. \r\n",
    "    Within seconds, his Ford Explorer pickup was hit by a Tesla that was traveling about 60 miles per hour on Autopilot.',\r\n",
    "    'San Francisco considers banning sidewalk delivery robots',\r\n",
    "    'London is a big city in the United Kingdom.'\r\n",
    "    \"\"\"\r\n",
    "\r\n",
    "data = {\"text\": text}"
   ],
   "outputs": [],
   "metadata": {}
  },
  {
   "cell_type": "code",
   "execution_count": 39,
   "source": [
    "# Jalankan sintaks ini untuk menguji endpoint tersebut\r\n",
    "url = 'https://eksa-api.herokuapp.com/get_entities_normalized'\r\n",
    "response = requests.request(method='POST', url=url, json=data)\r\n",
    "response.json()"
   ],
   "outputs": [
    {
     "output_type": "execute_result",
     "data": {
      "text/plain": [
       "{'ORG': ['Apple', 'Ford', 'Tesla'],\n",
       " 'PERSON': ['Maldonado'],\n",
       " 'GPE': ['U.K.', 'San Francisco', 'London', 'the United Kingdom'],\n",
       " 'MONEY': ['$1 billion']}"
      ]
     },
     "metadata": {},
     "execution_count": 39
    }
   ],
   "metadata": {}
  },
  {
   "cell_type": "markdown",
   "source": [
    "# Deployment ke remote host"
   ],
   "metadata": {}
  },
  {
   "cell_type": "markdown",
   "source": [
    "## Upload code ke git repository (github)\n",
    "\n",
    "1. Membuat repositori baru \n",
    "2. Mengupload file ke repositori baru dan commit changes"
   ],
   "metadata": {}
  },
  {
   "cell_type": "markdown",
   "source": [
    "## Create Heroku App\n",
    "\n",
    "1. Membuat aplikasi baru\n",
    "2. Menyambungkan repositori github kedalam aplikasi baru \n",
    "3. Melakukan deployment"
   ],
   "metadata": {}
  }
 ],
 "metadata": {
  "kernelspec": {
   "display_name": "olympus",
   "language": "python",
   "name": "olympus"
  },
  "language_info": {
   "codemirror_mode": {
    "name": "ipython",
    "version": 3
   },
   "file_extension": ".py",
   "mimetype": "text/x-python",
   "name": "python",
   "nbconvert_exporter": "python",
   "pygments_lexer": "ipython3",
   "version": "3.8.10"
  },
  "toc-autonumbering": true
 },
 "nbformat": 4,
 "nbformat_minor": 4
}